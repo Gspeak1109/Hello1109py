{
 "metadata": {
  "language_info": {
   "codemirror_mode": {
    "name": "ipython",
    "version": 3
   },
   "file_extension": ".py",
   "mimetype": "text/x-python",
   "name": "python",
   "nbconvert_exporter": "python",
   "pygments_lexer": "ipython3",
   "version": "3.8.3-final"
  },
  "orig_nbformat": 2,
  "kernelspec": {
   "name": "python383jvsc74a57bd0b3ba2566441a7c06988d0923437866b63cedc61552a5af99d1f4fb67d367b25f",
   "display_name": "Python 3.8.3 64-bit (conda)"
  }
 },
 "nbformat": 4,
 "nbformat_minor": 2,
 "cells": [
  {
   "cell_type": "code",
   "execution_count": 16,
   "metadata": {},
   "outputs": [
    {
     "output_type": "stream",
     "name": "stdout",
     "text": [
      "hello1109\n[1, 4, -6, 5]\n['python', 4.5, -5, 0]\nthis is an empty list []\n4\n['py', 'js', 'html']\npy\njs\nhtml\n"
     ]
    }
   ],
   "source": [
    "#Lists \n",
    "print(\"hello1109\") #Output visible to user\n",
    "#Lists and Tuples in python\n",
    "#list: sequence of items in order.\n",
    "#1.Not necessery of same data types.\n",
    "#2.Square brackets [] are used and seperated by comma.\n",
    "numbers = [1,4,-6,5]\n",
    "print(numbers)\n",
    "#Mixed list\n",
    "random_list = [\"python\", 4.5,-5,00] #string, float, negative, integer\n",
    "print(random_list)\n",
    "list = [] \n",
    "print(\"this is an empty list\",list)"
   ]
  },
  {
   "cell_type": "code",
   "execution_count": 17,
   "metadata": {},
   "outputs": [
    {
     "output_type": "stream",
     "name": "stdout",
     "text": [
      "4\n['py', 'js', 'html']\npy\njs\nhtml\n"
     ]
    }
   ],
   "source": [
    "print(len(numbers))#length of the list \n",
    "Languages = [\"py\",\"js\",\"html\"]\n",
    "print(Languages)\n",
    "print(Languages[0])#indexing which is finding postion of each element in the list\n",
    "print(Languages[1])#indexing starts with 0\n",
    "print(Languages[2])\n",
    "#Negative indexing\n"
   ]
  },
  {
   "cell_type": "code",
   "execution_count": null,
   "metadata": {},
   "outputs": [],
   "source": []
  },
  {
   "cell_type": "code",
   "execution_count": null,
   "metadata": {},
   "outputs": [],
   "source": []
  },
  {
   "cell_type": "code",
   "execution_count": null,
   "metadata": {},
   "outputs": [],
   "source": []
  },
  {
   "cell_type": "code",
   "execution_count": null,
   "metadata": {},
   "outputs": [],
   "source": []
  },
  {
   "cell_type": "code",
   "execution_count": null,
   "metadata": {},
   "outputs": [],
   "source": []
  },
  {
   "cell_type": "code",
   "execution_count": null,
   "metadata": {},
   "outputs": [],
   "source": []
  }
 ]
}