{
 "metadata": {
  "language_info": {
   "codemirror_mode": {
    "name": "ipython",
    "version": 3
   },
   "file_extension": ".py",
   "mimetype": "text/x-python",
   "name": "python",
   "nbconvert_exporter": "python",
   "pygments_lexer": "ipython3",
   "version": "3.8.3-final"
  },
  "orig_nbformat": 2,
  "kernelspec": {
   "name": "python383jvsc74a57bd0b3ba2566441a7c06988d0923437866b63cedc61552a5af99d1f4fb67d367b25f",
   "display_name": "Python 3.8.3 64-bit (conda)"
  }
 },
 "nbformat": 4,
 "nbformat_minor": 2,
 "cells": [
  {
   "cell_type": "code",
   "execution_count": 2,
   "metadata": {},
   "outputs": [
    {
     "output_type": "stream",
     "name": "stdout",
     "text": [
      "hello1109\n[1, 4, -6, 5]\n['python', 4.5, -5, 0]\nthis is an empty list []\n4\n"
     ]
    }
   ],
   "source": [
    "#Lists \n",
    "print(\"hello1109\") #Output visible to user\n",
    "#Lists and Tuples in python\n",
    "#list: sequence of items in order.\n",
    "#1.Not necessery of same data types.\n",
    "#2.Square brackets [] are used and seperated by comma.\n",
    "numbers = [1,4,-6,5]\n",
    "print(numbers)\n",
    "#Mixed list\n",
    "random_list = [\"python\", 4.5,-5,00] #string, float, negative, integer\n",
    "print(random_list)\n",
    "list = [] \n",
    "print(\"this is an empty list\",list)\n",
    "print(len(numbers))#length of the list "
   ]
  },
  {
   "cell_type": "code",
   "execution_count": 3,
   "metadata": {},
   "outputs": [
    {
     "output_type": "stream",
     "name": "stdout",
     "text": [
      "['py', 'js', 'html']\npy\njs\nhtml\n"
     ]
    }
   ],
   "source": [
    "Languages = [\"py\",\"js\",\"html\"]\n",
    "print(Languages)\n",
    "print(Languages[0])#indexing which is finding postion of each element in the list\n",
    "print(Languages[1])#indexing starts with 0\n",
    "print(Languages[2])\n",
    "#Negative indexing\n"
   ]
  },
  {
   "cell_type": "code",
   "execution_count": 20,
   "metadata": {},
   "outputs": [
    {
     "output_type": "stream",
     "name": "stdout",
     "text": [
      "('car', '20', 23)\n3\ncar\n20\n"
     ]
    }
   ],
   "source": [
    "#Tuples\n",
    "tuple = (\"car\",\"20\",23) #you cant change like list, so you cant append\n",
    "print(tuple)\n",
    "print(len(tuple))\n",
    "print(tuple[0])\n",
    "print(tuple[1])\n",
    "#you can also try slicing\n",
    "#if in case you want to add item to tupple\n",
    "#convert it to list and back to tuple\n"
   ]
  },
  {
   "cell_type": "code",
   "execution_count": 67,
   "metadata": {},
   "outputs": [
    {
     "output_type": "stream",
     "name": "stdout",
     "text": [
      "{'name': 'Gspeak', 'age': 3, 'sup': 'student'}\nGspeak\n3\n{'name': 'Gspeak', 'age': 3, 'sup': 'inter'}\n{'name': 'Gspeak', 'age': 3, 'sup': 'hello'}\n{'name': 'Gspeak', 'sup': 'hello'}\n"
     ]
    }
   ],
   "source": [
    "#Dictionary\n",
    "#They are un-ordered, changable, no-duplicate values.\n",
    "#use {} curley brakets, using key which is name and value.\n",
    "#like age is your name and 20 is your value\n",
    "dict ={\n",
    "    \"name\":\"Gspeak\", #key and value, Don't foget the comma\n",
    "    \"age\": 3,\n",
    "    \"sup\":\"student\"\n",
    "    #You can have lists too insde for a key\n",
    "}\n",
    "print(dict)\n",
    "x=dict[\"name\"]\n",
    "print(x)\n",
    "#you can use get key also\n",
    "y=dict.get(\"age\")\n",
    "print(y) \n",
    "#change value?\n",
    "dict[\"sup\"]=\"inter\"\n",
    "print(dict)\n",
    "dict.update({\"sup\":\"hello\"})\n",
    "print(dict)\n",
    "#to remove use pop\n",
    "dict.pop(\"age\")\n",
    "print(dict)\n",
    "\n"
   ]
  },
  {
   "cell_type": "code",
   "execution_count": null,
   "metadata": {},
   "outputs": [],
   "source": []
  },
  {
   "cell_type": "code",
   "execution_count": null,
   "metadata": {},
   "outputs": [],
   "source": []
  },
  {
   "cell_type": "code",
   "execution_count": null,
   "metadata": {},
   "outputs": [],
   "source": []
  }
 ]
}